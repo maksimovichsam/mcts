{
 "cells": [
  {
   "cell_type": "code",
   "execution_count": 1,
   "metadata": {},
   "outputs": [
    {
     "name": "stdout",
     "output_type": "stream",
     "text": [
      "tensor([0., 1., 0., 0., 0., 1., 0., 1., 0., 0., 0., 1., 0., 1., 0., 0., 0., 1.,\n",
      "        0., 0., 1., 0., 1., 0., 1., 0., 0.]) tensor([0., 0., 0., 0., 0., 0., 0., 0., 1., 1.])\n",
      "tensor([0., 1., 0., 0., 0., 1., 0., 1., 0., 0., 0., 1., 0., 1., 0., 0., 0., 1.,\n",
      "        1., 0., 0., 0., 1., 0., 0., 0., 1.]) tensor([0., 0., 0., 0., 0., 0., 1., 0., 0., 1.])\n",
      "tensor([0., 1., 0., 0., 0., 1., 0., 1., 0., 0., 0., 1., 0., 1., 0., 0., 0., 1.,\n",
      "        1., 0., 0., 0., 1., 0., 1., 0., 0.]) tensor([0.0000, 0.0000, 0.0000, 0.0000, 0.0000, 0.0000, 0.5000, 0.0000, 0.5000,\n",
      "        1.0000])\n"
     ]
    }
   ],
   "source": [
    "import torch\n",
    "from smaksimovich.torch_utils import SimpleDataset\n",
    "\n",
    "x = []\n",
    "y = []\n",
    "with open(\"tictactoe_solved.csv\", \"r\") as file:\n",
    "    lines = file.read().split('\\n')\n",
    "    for line in lines:\n",
    "        if len(line) == 0:\n",
    "            continue\n",
    "        line = line.split(',')\n",
    "        x_i = torch.tensor( list(map(float, line[:27])), dtype=torch.float)\n",
    "        y_i = torch.tensor( list(map(float, line[27:])), dtype=torch.float)\n",
    "        assert len(y_i) == 10\n",
    "        x.append(x_i)\n",
    "        y.append(y_i)\n",
    "\n",
    "dataset = SimpleDataset(x, y)\n",
    "\n",
    "for i in range(3):\n",
    "    print(x[i], y[i])"
   ]
  },
  {
   "cell_type": "code",
   "execution_count": 6,
   "metadata": {},
   "outputs": [],
   "source": [
    "from smaksimovich.torch_utils import BasicNN\n",
    "from matplotlib import pyplot as plt\n",
    "\n",
    "hp = BasicNN.HyperParameters()\n",
    "hp.lr = 0.001\n",
    "hp.epochs = 300\n",
    "hp.batch_size = 256\n",
    "hp.weight_decay = 10e-4\n",
    "\n",
    "epsilon = 1e-5\n",
    "cross_entropy = lambda q, p: -torch.sum(p * torch.log(q + epsilon))\n",
    "mse = lambda x, y: torch.sum((x - y)**2)\n",
    "loss = lambda x, y: cross_entropy(torch.softmax(x[:, 0:9], dim=1), y[:, 0:9]) + mse(x[:, 9:10], y[:, 9:10])\n",
    "model = BasicNN([27, 100, 100, 100, 100, 10], hp)\n",
    "# loss_plot, _ = model.train_nn(dataset, loss_fn=loss)\n",
    "# model.save_to_file(\"ttt_solved.pth\")\n",
    "\n",
    "# plt.plot(list(range(len(loss_plot))), loss_plot)"
   ]
  },
  {
   "cell_type": "code",
   "execution_count": 8,
   "metadata": {},
   "outputs": [
    {
     "name": "stdout",
     "output_type": "stream",
     "text": [
      "total correct = 804 / 4520 = 0.17787610619469027\n"
     ]
    }
   ],
   "source": [
    "# Get the accuracy of the model\n",
    "# i.e. if the best action it produces is actually the best action\n",
    "\n",
    "action_probabilites = torch.stack([ y_i[0:9] for y_i in y ])\n",
    "max_actions = torch.max(action_probabilites, dim=1).values.reshape((-1, 1))\n",
    "max_actions = max_actions == action_probabilites\n",
    "best_actions = [[] for j in range(len(y))]\n",
    "for j in range(len(y)):\n",
    "    for i in range(9):\n",
    "        if max_actions[j, i]:\n",
    "            best_actions[j].append(i)\n",
    "\n",
    "X = torch.stack(x)\n",
    "model_y = model(X)\n",
    "model_probabilites = model_y[:, 0:9]\n",
    "model_actions = torch.argmax(model_probabilites, dim=1)\n",
    "\n",
    "assert model_actions.shape == (len(y),), f\"Expected {(len(y),)} got {model_actions.shape}\"\n",
    "\n",
    "total_correct = 0\n",
    "for j in range(len(y)):\n",
    "    if model_actions[j].item() in best_actions[j]:\n",
    "        total_correct += 1\n",
    "\n",
    "percent_correct = total_correct / len(y)\n",
    "print(f\"total correct = {total_correct} / {len(y)} = {percent_correct}\")"
   ]
  },
  {
   "cell_type": "code",
   "execution_count": 4,
   "metadata": {},
   "outputs": [
    {
     "name": "stdout",
     "output_type": "stream",
     "text": [
      "tensor([-0.9715, -2.3127, -1.2604, -3.7181,  0.0391, -3.3123, -0.1719, -2.9173,\n",
      "        -0.8784,  0.0668], grad_fn=<AddBackward0>)\n",
      "tensor([0.1193, 0.0312, 0.0894, 0.0077, 0.3277, 0.0115, 0.2654, 0.0170, 0.1309],\n",
      "       grad_fn=<SoftmaxBackward0>)\n"
     ]
    }
   ],
   "source": [
    "t = torch.tensor([1.0,0.0,0.0,1.0,0.0,0.0,1.0,0.0,0.0,1.0,0.0,0.0,1.0,0.0,0.0,1.0,0.0,0.0,1.0,0.0,0.0,1.0,0.0,0.0,1.0,0.0,0.0])\n",
    "\n",
    "y_i = model(t)\n",
    "print(y_i)\n",
    "print(torch.softmax(y_i[0:9], dim=0))"
   ]
  },
  {
   "cell_type": "code",
   "execution_count": 5,
   "metadata": {},
   "outputs": [
    {
     "name": "stdout",
     "output_type": "stream",
     "text": [
      "tensor([[1],\n",
      "        [2]])\n"
     ]
    }
   ],
   "source": [
    "# t = torch.tensor([[1, 2], [2, 4]], dtype=torch.float)\n",
    "t = torch.tensor([[1],[2]])\n",
    "\n",
    "res = [[1, 2], [3]]\n",
    "print(t)\n",
    "\n",
    "# torch.max(t, dim=1)\n",
    "# torch.softmax(t, dim=1)"
   ]
  }
 ],
 "metadata": {
  "kernelspec": {
   "display_name": "Python 3",
   "language": "python",
   "name": "python3"
  },
  "language_info": {
   "codemirror_mode": {
    "name": "ipython",
    "version": 3
   },
   "file_extension": ".py",
   "mimetype": "text/x-python",
   "name": "python",
   "nbconvert_exporter": "python",
   "pygments_lexer": "ipython3",
   "version": "3.10.6"
  },
  "orig_nbformat": 4,
  "vscode": {
   "interpreter": {
    "hash": "07aab6fd1bb87f5bdadc5a34ebd8a5f87ecf4f0bcaf3bdc95905db090a854ebe"
   }
  }
 },
 "nbformat": 4,
 "nbformat_minor": 2
}
